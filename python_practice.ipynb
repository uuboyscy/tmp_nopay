{
 "cells": [
  {
   "cell_type": "code",
   "execution_count": 1,
   "metadata": {},
   "outputs": [
    {
     "name": "stdout",
     "output_type": "stream",
     "text": [
      "Player_1\n",
      "['Club_10', 'Club_1', 'Club_9', 'Club_8', 'Diamond_4', 'Diamond_13', 'Heart_11', 'Heart_9', 'Heart_7', 'Spade_2', 'Spade_9', 'Spade_13', 'Spade_8']\n",
      "\n",
      "Player_2\n",
      "['Club_13', 'Club_5', 'Diamond_9', 'Diamond_3', 'Diamond_8', 'Diamond_1', 'Diamond_6', 'Heart_1', 'Heart_10', 'Heart_4', 'Spade_1', 'Spade_3', 'Spade_10']\n",
      "\n",
      "Player_3\n",
      "['Club_4', 'Club_3', 'Club_12', 'Club_11', 'Diamond_5', 'Heart_13', 'Heart_3', 'Heart_12', 'Spade_6', 'Spade_5', 'Spade_12', 'Spade_4', 'Spade_11']\n",
      "\n",
      "Player_4\n",
      "['Club_7', 'Club_6', 'Club_2', 'Diamond_10', 'Diamond_11', 'Diamond_12', 'Diamond_7', 'Diamond_2', 'Heart_8', 'Heart_2', 'Heart_5', 'Heart_6', 'Spade_7']\n",
      "\n"
     ]
    }
   ],
   "source": [
    "import random\n",
    "\n",
    "PLAYER = 4\n",
    "player_cards = {'Player_%s'%(i+1): list() for i in range(0,PLAYER)}\n",
    "\n",
    "# Generate 52 poker cards\n",
    "style_list = ['Spade', 'Heart', 'Diamond', 'Club']\n",
    "poker_list = ['%s_%s'%(style_list[int(i%4)], int(i/4) + 1) for i in range(0, 52)]\n",
    "\n",
    "# Shuffling\n",
    "random_poker_list = []\n",
    "while len(poker_list) > 0:\n",
    "    choice = random.randint(0, len(poker_list)-1)\n",
    "    random_poker_list.append(poker_list[choice])\n",
    "    del poker_list[choice]\n",
    "\n",
    "# Distributing\n",
    "for n, c in enumerate(random_poker_list):\n",
    "    player_cards['Player_%s'%(n%PLAYER + 1)].append(c)\n",
    "\n",
    "# Order and print\n",
    "for i in player_cards:\n",
    "    player_cards[i].sort(key=lambda x: x.split('_')[0])\n",
    "    print(i)\n",
    "    print(player_cards[i])\n",
    "    print()"
   ]
  },
  {
   "cell_type": "code",
   "execution_count": 2,
   "metadata": {},
   "outputs": [],
   "source": [
    "Func = lambda n: 1 if n < 3 else Func(n-1) + Func(n-3)"
   ]
  },
  {
   "cell_type": "code",
   "execution_count": 3,
   "metadata": {},
   "outputs": [
    {
     "name": "stdout",
     "output_type": "stream",
     "text": [
      "1\n",
      "1\n",
      "1\n",
      "2\n",
      "3\n",
      "4\n",
      "6\n",
      "9\n",
      "13\n",
      "19\n",
      "28\n",
      "41\n",
      "60\n",
      "88\n",
      "129\n",
      "189\n"
     ]
    }
   ],
   "source": [
    "for i in range(0, 16):\n",
    "    print(Func(i))"
   ]
  }
 ],
 "metadata": {
  "kernelspec": {
   "display_name": "Python 3",
   "language": "python",
   "name": "python3"
  },
  "language_info": {
   "codemirror_mode": {
    "name": "ipython",
    "version": 3
   },
   "file_extension": ".py",
   "mimetype": "text/x-python",
   "name": "python",
   "nbconvert_exporter": "python",
   "pygments_lexer": "ipython3",
   "version": "3.7.0"
  }
 },
 "nbformat": 4,
 "nbformat_minor": 2
}
